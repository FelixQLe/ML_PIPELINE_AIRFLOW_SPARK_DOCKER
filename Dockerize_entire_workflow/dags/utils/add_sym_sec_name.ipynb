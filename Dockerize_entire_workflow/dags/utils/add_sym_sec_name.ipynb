{
 "cells": [
  {
   "cell_type": "code",
   "execution_count": 11,
   "metadata": {},
   "outputs": [],
   "source": [
    "from pyspark.sql import SparkSession\n",
    "from pyspark.sql.types import StructType, StructField, StringType, FloatType\n",
    "from pyspark.sql.functions import input_file_name, lit"
   ]
  },
  {
   "cell_type": "code",
   "execution_count": 12,
   "metadata": {},
   "outputs": [],
   "source": [
    "#Create a SparkSession\n",
    "spark = SparkSession.builder.appName(\"ETFs\").getOrCreate()"
   ]
  },
  {
   "cell_type": "code",
   "execution_count": 18,
   "metadata": {},
   "outputs": [],
   "source": [
    "\n",
    "\n",
    "existing_schema = StructType([\n",
    "    StructField(\"Date\", StringType(), True),\n",
    "    StructField(\"Open\", FloatType(), True),\n",
    "    StructField(\"High\", FloatType(), True),\n",
    "    StructField(\"Low\", FloatType(), True),\n",
    "    StructField(\"Close\", FloatType(), True),\n",
    "    StructField(\"Adj Close\", FloatType(), True),\n",
    "    StructField(\"Volume\", FloatType(), True)\n",
    "\n",
    "])"
   ]
  },
  {
   "cell_type": "code",
   "execution_count": 42,
   "metadata": {},
   "outputs": [],
   "source": [
    "input_path = \"../data/stocks_etfs/*.csv\"\n",
    "stock_df = spark.read.csv(input_path, header=True, schema=existing_schema)"
   ]
  },
  {
   "cell_type": "code",
   "execution_count": 43,
   "metadata": {},
   "outputs": [
    {
     "data": {
      "text/plain": [
       "97840"
      ]
     },
     "execution_count": 43,
     "metadata": {},
     "output_type": "execute_result"
    }
   ],
   "source": [
    "stock_df.count()"
   ]
  },
  {
   "cell_type": "code",
   "execution_count": 44,
   "metadata": {},
   "outputs": [
    {
     "data": {
      "text/plain": [
       "[Row(Date='2020-03-05', Open=1.0, High=1.0, Low=0.9599999785423279, Close=0.9599999785423279, Adj Close=0.9599999785423279, Volume=2600.0),\n",
       " Row(Date='2020-03-06', Open=0.9599999785423279, High=1.0099999904632568, Low=0.9599999785423279, Close=1.0, Adj Close=1.0, Volume=8900.0),\n",
       " Row(Date='2020-03-09', Open=1.0, High=1.0299999713897705, Low=0.9700000286102295, Close=0.9700000286102295, Adj Close=0.9700000286102295, Volume=23700.0),\n",
       " Row(Date='2020-03-10', Open=0.9800000190734863, High=1.0199999809265137, Low=0.9599999785423279, Close=0.9800000190734863, Adj Close=0.9800000190734863, Volume=9100.0),\n",
       " Row(Date='2020-03-11', Open=0.9599999785423279, High=0.9700000286102295, Low=0.9599999785423279, Close=0.9599999785423279, Adj Close=0.9599999785423279, Volume=35600.0),\n",
       " Row(Date='2020-03-12', Open=0.9599999785423279, High=1.0, Low=0.8999999761581421, Close=0.8999999761581421, Adj Close=0.8999999761581421, Volume=35900.0),\n",
       " Row(Date='2020-03-13', Open=0.8999999761581421, High=0.9700000286102295, Low=0.8600000143051147, Close=0.8600000143051147, Adj Close=0.8600000143051147, Volume=16400.0),\n",
       " Row(Date='2020-03-16', Open=0.8500000238418579, High=0.9100000262260437, Low=0.8500000238418579, Close=0.8500000238418579, Adj Close=0.8500000238418579, Volume=16200.0),\n",
       " Row(Date='2020-03-17', Open=0.8899999856948853, High=0.9300000071525574, Low=0.8500000238418579, Close=0.9100000262260437, Adj Close=0.9100000262260437, Volume=20300.0),\n",
       " Row(Date='2020-03-18', Open=0.8500000238418579, High=0.9300000071525574, Low=0.699999988079071, Close=0.7300000190734863, Adj Close=0.7300000190734863, Volume=23600.0),\n",
       " Row(Date='2020-03-19', Open=0.7200000286102295, High=0.7599999904632568, Low=0.699999988079071, Close=0.7400000095367432, Adj Close=0.7400000095367432, Volume=7800.0),\n",
       " Row(Date='2020-03-20', Open=0.75, High=1.100000023841858, Low=0.75, Close=0.8999999761581421, Adj Close=0.8999999761581421, Volume=9200.0),\n",
       " Row(Date='2020-03-23', Open=0.8999999761581421, High=0.8999999761581421, Low=0.800000011920929, Close=0.8399999737739563, Adj Close=0.8399999737739563, Volume=9000.0),\n",
       " Row(Date='2020-03-24', Open=0.8600000143051147, High=1.059999942779541, Low=0.75, Close=0.8600000143051147, Adj Close=0.8600000143051147, Volume=6500.0),\n",
       " Row(Date='2020-03-25', Open=0.8100000023841858, High=0.9599999785423279, Low=0.800000011920929, Close=0.9100000262260437, Adj Close=0.9100000262260437, Volume=8800.0),\n",
       " Row(Date='2020-03-26', Open=0.949999988079071, High=1.0, Low=0.8999999761581421, Close=1.0, Adj Close=1.0, Volume=11000.0),\n",
       " Row(Date='2020-03-27', Open=1.0199999809265137, High=1.0199999809265137, Low=0.949999988079071, Close=0.9599999785423279, Adj Close=0.9599999785423279, Volume=4300.0),\n",
       " Row(Date='2020-03-30', Open=0.8799999952316284, High=1.0, Low=0.8799999952316284, Close=0.949999988079071, Adj Close=0.949999988079071, Volume=6500.0),\n",
       " Row(Date='2020-03-31', Open=0.8999999761581421, High=0.949999988079071, Low=0.8999999761581421, Close=0.949999988079071, Adj Close=0.949999988079071, Volume=8300.0),\n",
       " Row(Date='2020-04-01', Open=0.949999988079071, High=1.0099999904632568, Low=0.9399999976158142, Close=0.949999988079071, Adj Close=0.949999988079071, Volume=1900.0)]"
      ]
     },
     "execution_count": 44,
     "metadata": {},
     "output_type": "execute_result"
    }
   ],
   "source": [
    "stock_df.tail(20)"
   ]
  },
  {
   "cell_type": "code",
   "execution_count": 47,
   "metadata": {},
   "outputs": [
    {
     "name": "stdout",
     "output_type": "stream",
     "text": [
      "+----------+--------+--------+--------+--------+---------+--------+\n",
      "|      Date|    Open|    High|     Low|   Close|Adj Close|  Volume|\n",
      "+----------+--------+--------+--------+--------+---------+--------+\n",
      "|1962-01-02|6.532155|6.556185|6.532155|6.532155|1.5366576| 55900.0|\n",
      "|1962-01-03|6.532155| 6.63228|6.524145| 6.63228|1.5602118| 74500.0|\n",
      "|1962-01-04| 6.63228| 6.66432| 6.63228| 6.63228|1.5602118| 80500.0|\n",
      "|1962-01-05| 6.63228| 6.65631| 6.61626| 6.62427|1.5583265| 70500.0|\n",
      "|1962-01-08| 6.60825| 6.60825|6.339915|   6.408|1.5074503| 93800.0|\n",
      "|1962-01-09|   6.408|6.508125|6.355935|6.355935|1.4952024| 64500.0|\n",
      "|1962-01-10|6.355935|   6.408|6.339915|6.363945|1.4970871| 34500.0|\n",
      "|1962-01-11|6.347925|6.347925|6.323895|6.339915|1.4914336| 27900.0|\n",
      "|1962-01-12|6.339915|6.347925| 6.20775| 6.20775|1.4603431| 26500.0|\n",
      "|1962-01-15|6.139665|6.139665| 6.05556| 6.05556|1.4245404| 64500.0|\n",
      "|1962-01-16| 6.03954| 6.03954|  6.0075|  6.0075|1.4132345| 27900.0|\n",
      "|1962-01-17|  6.0075| 6.02352|  6.0075|  6.0075|1.4132345| 79900.0|\n",
      "|1962-01-18|  6.0075|  6.0075|  6.0075|  6.0075|1.4132345| 89800.0|\n",
      "|1962-01-19|  6.0075| 6.04755|  6.0075| 6.02352|1.4170028|100400.0|\n",
      "|1962-01-22| 6.03954|6.131655| 6.03954| 6.03954|1.4207717| 69900.0|\n",
      "|1962-01-23| 6.03954|6.115635| 6.01551| 6.01551| 1.415119| 34500.0|\n",
      "|1962-01-24| 6.01551| 6.01551| 5.83929|5.955435|1.4009861| 45900.0|\n",
      "|1962-01-25|5.955435|5.963445|5.915385|5.915385|1.3915651| 37900.0|\n",
      "|1962-01-26|5.915385|5.931405|5.915385|5.931405|1.3953344| 37900.0|\n",
      "|1962-01-29|5.931405|5.955435|5.915385|5.923395|1.3934486| 42500.0|\n",
      "+----------+--------+--------+--------+--------+---------+--------+\n",
      "only showing top 20 rows\n",
      "\n"
     ]
    }
   ],
   "source": [
    "stock_df.show()"
   ]
  },
  {
   "cell_type": "code",
   "execution_count": 8,
   "metadata": {},
   "outputs": [
    {
     "data": {
      "text/html": [
       "<div>\n",
       "<style scoped>\n",
       "    .dataframe tbody tr th:only-of-type {\n",
       "        vertical-align: middle;\n",
       "    }\n",
       "\n",
       "    .dataframe tbody tr th {\n",
       "        vertical-align: top;\n",
       "    }\n",
       "\n",
       "    .dataframe thead th {\n",
       "        text-align: right;\n",
       "    }\n",
       "</style>\n",
       "<table border=\"1\" class=\"dataframe\">\n",
       "  <thead>\n",
       "    <tr style=\"text-align: right;\">\n",
       "      <th></th>\n",
       "      <th>Date</th>\n",
       "      <th>Open</th>\n",
       "      <th>High</th>\n",
       "      <th>Low</th>\n",
       "      <th>Close</th>\n",
       "      <th>Adj Close</th>\n",
       "      <th>Volume</th>\n",
       "    </tr>\n",
       "  </thead>\n",
       "  <tbody>\n",
       "    <tr>\n",
       "      <th>0</th>\n",
       "      <td>1999-11-18</td>\n",
       "      <td>32.546494</td>\n",
       "      <td>35.765381</td>\n",
       "      <td>28.612303</td>\n",
       "      <td>31.473534</td>\n",
       "      <td>27.068665</td>\n",
       "      <td>62546300</td>\n",
       "    </tr>\n",
       "    <tr>\n",
       "      <th>1</th>\n",
       "      <td>1999-11-19</td>\n",
       "      <td>30.713520</td>\n",
       "      <td>30.758226</td>\n",
       "      <td>28.478184</td>\n",
       "      <td>28.880543</td>\n",
       "      <td>24.838577</td>\n",
       "      <td>15234100</td>\n",
       "    </tr>\n",
       "    <tr>\n",
       "      <th>2</th>\n",
       "      <td>1999-11-22</td>\n",
       "      <td>29.551144</td>\n",
       "      <td>31.473534</td>\n",
       "      <td>28.657009</td>\n",
       "      <td>31.473534</td>\n",
       "      <td>27.068665</td>\n",
       "      <td>6577800</td>\n",
       "    </tr>\n",
       "    <tr>\n",
       "      <th>3</th>\n",
       "      <td>1999-11-23</td>\n",
       "      <td>30.400572</td>\n",
       "      <td>31.205294</td>\n",
       "      <td>28.612303</td>\n",
       "      <td>28.612303</td>\n",
       "      <td>24.607880</td>\n",
       "      <td>5975600</td>\n",
       "    </tr>\n",
       "    <tr>\n",
       "      <th>4</th>\n",
       "      <td>1999-11-24</td>\n",
       "      <td>28.701717</td>\n",
       "      <td>29.998211</td>\n",
       "      <td>28.612303</td>\n",
       "      <td>29.372318</td>\n",
       "      <td>25.261524</td>\n",
       "      <td>4843200</td>\n",
       "    </tr>\n",
       "    <tr>\n",
       "      <th>...</th>\n",
       "      <td>...</td>\n",
       "      <td>...</td>\n",
       "      <td>...</td>\n",
       "      <td>...</td>\n",
       "      <td>...</td>\n",
       "      <td>...</td>\n",
       "      <td>...</td>\n",
       "    </tr>\n",
       "    <tr>\n",
       "      <th>5119</th>\n",
       "      <td>2020-03-26</td>\n",
       "      <td>70.000000</td>\n",
       "      <td>74.449997</td>\n",
       "      <td>69.650002</td>\n",
       "      <td>73.720001</td>\n",
       "      <td>73.532867</td>\n",
       "      <td>3267500</td>\n",
       "    </tr>\n",
       "    <tr>\n",
       "      <th>5120</th>\n",
       "      <td>2020-03-27</td>\n",
       "      <td>71.550003</td>\n",
       "      <td>73.209999</td>\n",
       "      <td>70.279999</td>\n",
       "      <td>70.910004</td>\n",
       "      <td>70.730003</td>\n",
       "      <td>1829800</td>\n",
       "    </tr>\n",
       "    <tr>\n",
       "      <th>5121</th>\n",
       "      <td>2020-03-30</td>\n",
       "      <td>71.059998</td>\n",
       "      <td>73.180000</td>\n",
       "      <td>71.059998</td>\n",
       "      <td>72.669998</td>\n",
       "      <td>72.669998</td>\n",
       "      <td>1486200</td>\n",
       "    </tr>\n",
       "    <tr>\n",
       "      <th>5122</th>\n",
       "      <td>2020-03-31</td>\n",
       "      <td>72.339996</td>\n",
       "      <td>72.800003</td>\n",
       "      <td>70.500000</td>\n",
       "      <td>71.620003</td>\n",
       "      <td>71.620003</td>\n",
       "      <td>1822100</td>\n",
       "    </tr>\n",
       "    <tr>\n",
       "      <th>5123</th>\n",
       "      <td>2020-04-01</td>\n",
       "      <td>69.470001</td>\n",
       "      <td>70.230003</td>\n",
       "      <td>68.150002</td>\n",
       "      <td>68.919998</td>\n",
       "      <td>68.919998</td>\n",
       "      <td>2173600</td>\n",
       "    </tr>\n",
       "  </tbody>\n",
       "</table>\n",
       "<p>5124 rows × 7 columns</p>\n",
       "</div>"
      ],
      "text/plain": [
       "            Date       Open       High        Low      Close  Adj Close  \\\n",
       "0     1999-11-18  32.546494  35.765381  28.612303  31.473534  27.068665   \n",
       "1     1999-11-19  30.713520  30.758226  28.478184  28.880543  24.838577   \n",
       "2     1999-11-22  29.551144  31.473534  28.657009  31.473534  27.068665   \n",
       "3     1999-11-23  30.400572  31.205294  28.612303  28.612303  24.607880   \n",
       "4     1999-11-24  28.701717  29.998211  28.612303  29.372318  25.261524   \n",
       "...          ...        ...        ...        ...        ...        ...   \n",
       "5119  2020-03-26  70.000000  74.449997  69.650002  73.720001  73.532867   \n",
       "5120  2020-03-27  71.550003  73.209999  70.279999  70.910004  70.730003   \n",
       "5121  2020-03-30  71.059998  73.180000  71.059998  72.669998  72.669998   \n",
       "5122  2020-03-31  72.339996  72.800003  70.500000  71.620003  71.620003   \n",
       "5123  2020-04-01  69.470001  70.230003  68.150002  68.919998  68.919998   \n",
       "\n",
       "        Volume  \n",
       "0     62546300  \n",
       "1     15234100  \n",
       "2      6577800  \n",
       "3      5975600  \n",
       "4      4843200  \n",
       "...        ...  \n",
       "5119   3267500  \n",
       "5120   1829800  \n",
       "5121   1486200  \n",
       "5122   1822100  \n",
       "5123   2173600  \n",
       "\n",
       "[5124 rows x 7 columns]"
      ]
     },
     "execution_count": 8,
     "metadata": {},
     "output_type": "execute_result"
    }
   ],
   "source": [
    "import pandas as pd\n",
    "\n",
    "pd.read_csv(\"../data/stocks_etfs/A.csv\")"
   ]
  },
  {
   "cell_type": "code",
   "execution_count": null,
   "metadata": {},
   "outputs": [],
   "source": []
  }
 ],
 "metadata": {
  "kernelspec": {
   "display_name": "work_sample",
   "language": "python",
   "name": "python3"
  },
  "language_info": {
   "codemirror_mode": {
    "name": "ipython",
    "version": 3
   },
   "file_extension": ".py",
   "mimetype": "text/x-python",
   "name": "python",
   "nbconvert_exporter": "python",
   "pygments_lexer": "ipython3",
   "version": "3.10.12"
  },
  "orig_nbformat": 4
 },
 "nbformat": 4,
 "nbformat_minor": 2
}
